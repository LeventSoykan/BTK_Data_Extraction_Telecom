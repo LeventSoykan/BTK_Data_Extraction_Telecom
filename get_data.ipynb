{
 "cells": [
  {
   "cell_type": "code",
   "execution_count": 1,
   "id": "ed25c1ab",
   "metadata": {},
   "outputs": [],
   "source": [
    "#Import Necessary Modules\n",
    "import pandas as pd\n",
    "import numpy as np\n",
    "import requests\n",
    "from bs4 import BeautifulSoup\n",
    "import json"
   ]
  },
  {
   "cell_type": "code",
   "execution_count": 2,
   "id": "ae72af24",
   "metadata": {},
   "outputs": [],
   "source": [
    "source = requests.get('https://www.btk.gov.tr/yillik-il-istatistikleri')"
   ]
  },
  {
   "cell_type": "code",
   "execution_count": 3,
   "id": "6500280a",
   "metadata": {},
   "outputs": [],
   "source": [
    "soup = BeautifulSoup(source.text, 'lxml')"
   ]
  },
  {
   "cell_type": "code",
   "execution_count": 4,
   "id": "b5105b05",
   "metadata": {},
   "outputs": [],
   "source": [
    "files = soup.find_all(name='div', attrs={'class':'SmTqk'})[0]"
   ]
  },
  {
   "cell_type": "code",
   "execution_count": 5,
   "id": "59ed8d07",
   "metadata": {},
   "outputs": [],
   "source": [
    "links = {}\n",
    "for a in files.find_all(name='a'):\n",
    "    link = a['href']\n",
    "    if link.endswith('.xlsx'):\n",
    "        links[a.text] = link"
   ]
  },
  {
   "cell_type": "code",
   "execution_count": 6,
   "id": "fda29608",
   "metadata": {},
   "outputs": [
    {
     "data": {
      "text/plain": [
       "{'2016 - 2021': 'https://www.btk.gov.tr/uploads/pages/yillik-il-istatistikleri/il-bazinda-yillik-istatistik-bulteni-v1.xlsx',\n",
       " '2015 - 2020': 'https://www.btk.gov.tr/uploads/pages/yillik-il-istatistikleri/elektronik-haberlesme-sektorune-iliskin-il-bazinda-yillik-istatistik-bulteni.xlsx',\n",
       " '2014 - 2019': 'https://www.btk.gov.tr/uploads/pages/yillik-il-istatistikleri/il-bazinda-yillik-istatistik-bulteni-20-05-2020.xlsx',\n",
       " '2013 - 2018': 'https://www.btk.gov.tr/uploads/pages/yillik-il-istatistikleri/il-bazinda-yillik-istatistik-bulteni1.xlsx',\n",
       " '2012 - 2017': 'https://www.btk.gov.tr/uploads/pages/yillik-il-istatistikleri/il-bazinda-yillik-istatistik-bulteni.xlsx',\n",
       " '2011 - 2016': 'https://www.btk.gov.tr/uploads/pages/slug/ehsyib-2011-2016-5a3a48147c468.xlsx',\n",
       " '2010 - 2015': 'https://www.btk.gov.tr/uploads/pages/slug/ehsyib-2010-2015.xlsx',\n",
       " '2009 - 2014': 'https://www.btk.gov.tr/uploads/pages/slug/ehsyib-2009-2014.xlsx',\n",
       " '2008 - 2013': 'https://www.btk.gov.tr/uploads/pages/slug/ehsyib-2008-2013.xlsx',\n",
       " '2007 - 2012': 'https://www.btk.gov.tr/uploads/pages/slug/ehsyib-2007-2012.xlsx'}"
      ]
     },
     "execution_count": 6,
     "metadata": {},
     "output_type": "execute_result"
    }
   ],
   "source": [
    "links"
   ]
  },
  {
   "cell_type": "code",
   "execution_count": 7,
   "id": "fe1a5f68",
   "metadata": {},
   "outputs": [],
   "source": [
    "def get_dataframe(link):\n",
    "    data = pd.read_excel(link, sheet_name='İl Bazlı Veri')\n",
    "    data = data.iloc[2:,:]\n",
    "    data['detail'] = data.iloc[:,1].fillna('') + data.iloc[:,2].fillna('')\n",
    "    data['city'] = data.iloc[:,0]\n",
    "    data = data.iloc[:,3:]\n",
    "    data['city'] = data['city'].fillna(method='ffill')\n",
    "    data.dropna(subset=[x for x in data.columns if str(x) not in ['city','detail']], axis=0, inplace=True)\n",
    "    data['detail'] = data['detail'].str.strip(r'[()]')\n",
    "    return data[data.columns[::-1]].reset_index(drop=True)[:-1]"
   ]
  },
  {
   "cell_type": "code",
   "execution_count": 37,
   "id": "3e22a442",
   "metadata": {},
   "outputs": [
    {
     "name": "stdout",
     "output_type": "stream",
     "text": [
      "2016 - 2021\n",
      "2015 - 2020\n",
      "2014 - 2019\n",
      "2013 - 2018\n",
      "2012 - 2017\n",
      "2011 - 2016\n",
      "2010 - 2015\n",
      "2009 - 2014\n",
      "2008 - 2013\n",
      "2007 - 2012\n"
     ]
    }
   ],
   "source": [
    "df = pd.DataFrame()\n",
    "for key, link in links.items():\n",
    "    print(key)\n",
    "    data = get_dataframe(link)\n",
    "    if df.shape[0] == 0:\n",
    "        df = data\n",
    "    else:\n",
    "        cols_to_use = data.columns.difference(df.columns[2:])\n",
    "        df = df.merge(data[cols_to_use], how='outer', on=['city', 'detail'])"
   ]
  },
  {
   "cell_type": "code",
   "execution_count": 41,
   "id": "958401e2",
   "metadata": {},
   "outputs": [],
   "source": [
    "df.sort_values(by='city', inplace=True)"
   ]
  },
  {
   "cell_type": "code",
   "execution_count": 42,
   "id": "c773fa45",
   "metadata": {},
   "outputs": [],
   "source": [
    "df.to_csv('final_merged.csv', encoding='utf-8-sig')"
   ]
  },
  {
   "cell_type": "code",
   "execution_count": 43,
   "id": "c5a3ffdd",
   "metadata": {},
   "outputs": [
    {
     "data": {
      "text/plain": [
       "Index([  'city', 'detail',     2021,     2020,     2019,     2018,     2017,\n",
       "           2016,     2015,     2014,     2013,     2012,     2011,     2010,\n",
       "           2009,     2008,     2007],\n",
       "      dtype='object')"
      ]
     },
     "execution_count": 43,
     "metadata": {},
     "output_type": "execute_result"
    }
   ],
   "source": [
    "df.columns"
   ]
  },
  {
   "cell_type": "code",
   "execution_count": null,
   "id": "d44c99b9",
   "metadata": {},
   "outputs": [],
   "source": []
  }
 ],
 "metadata": {
  "kernelspec": {
   "display_name": "Python 3 (ipykernel)",
   "language": "python",
   "name": "python3"
  },
  "language_info": {
   "codemirror_mode": {
    "name": "ipython",
    "version": 3
   },
   "file_extension": ".py",
   "mimetype": "text/x-python",
   "name": "python",
   "nbconvert_exporter": "python",
   "pygments_lexer": "ipython3",
   "version": "3.9.2"
  }
 },
 "nbformat": 4,
 "nbformat_minor": 5
}
