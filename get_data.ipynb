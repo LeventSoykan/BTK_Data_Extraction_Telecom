{
 "cells": [
  {
   "cell_type": "code",
   "execution_count": 1,
   "id": "ed25c1ab",
   "metadata": {},
   "outputs": [],
   "source": [
    "#Import Necessary Modules\n",
    "import pandas as pd\n",
    "import numpy as np\n",
    "import requests\n",
    "from bs4 import BeautifulSoup\n",
    "import json"
   ]
  },
  {
   "cell_type": "code",
   "execution_count": 2,
   "id": "ae72af24",
   "metadata": {},
   "outputs": [],
   "source": [
    "source = requests.get('https://www.btk.gov.tr/yillik-il-istatistikleri')"
   ]
  },
  {
   "cell_type": "code",
   "execution_count": 3,
   "id": "6500280a",
   "metadata": {},
   "outputs": [],
   "source": [
    "soup = BeautifulSoup(source.text, 'lxml')"
   ]
  },
  {
   "cell_type": "code",
   "execution_count": 4,
   "id": "b5105b05",
   "metadata": {},
   "outputs": [],
   "source": [
    "files = soup.find_all(name='div', attrs={'class':'SmTqk'})[0]"
   ]
  },
  {
   "cell_type": "code",
   "execution_count": 5,
   "id": "59ed8d07",
   "metadata": {},
   "outputs": [],
   "source": [
    "links = {}\n",
    "for a in files.find_all(name='a'):\n",
    "    link = a['href']\n",
    "    if link.endswith('.xlsx'):\n",
    "        links[a.text] = link"
   ]
  },
  {
   "cell_type": "code",
   "execution_count": 6,
   "id": "fda29608",
   "metadata": {},
   "outputs": [
    {
     "data": {
      "text/plain": [
       "{'2016 - 2021': 'https://www.btk.gov.tr/uploads/pages/yillik-il-istatistikleri/il-bazinda-yillik-istatistik-bulteni-v1.xlsx',\n",
       " '2015 - 2020': 'https://www.btk.gov.tr/uploads/pages/yillik-il-istatistikleri/elektronik-haberlesme-sektorune-iliskin-il-bazinda-yillik-istatistik-bulteni.xlsx',\n",
       " '2014 - 2019': 'https://www.btk.gov.tr/uploads/pages/yillik-il-istatistikleri/il-bazinda-yillik-istatistik-bulteni-20-05-2020.xlsx',\n",
       " '2013 - 2018': 'https://www.btk.gov.tr/uploads/pages/yillik-il-istatistikleri/il-bazinda-yillik-istatistik-bulteni1.xlsx',\n",
       " '2012 - 2017': 'https://www.btk.gov.tr/uploads/pages/yillik-il-istatistikleri/il-bazinda-yillik-istatistik-bulteni.xlsx',\n",
       " '2011 - 2016': 'https://www.btk.gov.tr/uploads/pages/slug/ehsyib-2011-2016-5a3a48147c468.xlsx',\n",
       " '2010 - 2015': 'https://www.btk.gov.tr/uploads/pages/slug/ehsyib-2010-2015.xlsx',\n",
       " '2009 - 2014': 'https://www.btk.gov.tr/uploads/pages/slug/ehsyib-2009-2014.xlsx',\n",
       " '2008 - 2013': 'https://www.btk.gov.tr/uploads/pages/slug/ehsyib-2008-2013.xlsx',\n",
       " '2007 - 2012': 'https://www.btk.gov.tr/uploads/pages/slug/ehsyib-2007-2012.xlsx'}"
      ]
     },
     "execution_count": 6,
     "metadata": {},
     "output_type": "execute_result"
    }
   ],
   "source": [
    "links"
   ]
  },
  {
   "cell_type": "code",
   "execution_count": 7,
   "id": "fe1a5f68",
   "metadata": {},
   "outputs": [],
   "source": [
    "def get_dataframe(link):\n",
    "    data = pd.read_excel(link, sheet_name='İl Bazlı Veri')\n",
    "    data = data.iloc[2:,:]\n",
    "    data['detail'] = data.iloc[:,1].fillna('') + data.iloc[:,2].fillna('')\n",
    "    data['city'] = data.iloc[:,0]\n",
    "    data = data.iloc[:,3:]\n",
    "    data['city'] = data['city'].fillna(method='ffill')\n",
    "    data.dropna(subset=[x for x in data.columns if str(x) not in ['city','detail']], axis=0, inplace=True)\n",
    "    data['detail'] = data['detail'].str.strip(r'[()]')\n",
    "    return data[data.columns[::-1]].reset_index(drop=True)[:-1]"
   ]
  },
  {
   "cell_type": "code",
   "execution_count": 37,
   "id": "3e22a442",
   "metadata": {},
   "outputs": [
    {
     "name": "stdout",
     "output_type": "stream",
     "text": [
      "2016 - 2021\n",
      "2015 - 2020\n",
      "2014 - 2019\n",
      "2013 - 2018\n",
      "2012 - 2017\n",
      "2011 - 2016\n",
      "2010 - 2015\n",
      "2009 - 2014\n",
      "2008 - 2013\n",
      "2007 - 2012\n"
     ]
    }
   ],
   "source": [
    "df = pd.DataFrame()\n",
    "for key, link in links.items():\n",
    "    print(key)\n",
    "    data = get_dataframe(link)\n",
    "    if df.shape[0] == 0:\n",
    "        df = data\n",
    "    else:\n",
    "        cols_to_use = data.columns.difference(df.columns[2:])\n",
    "        df = df.merge(data[cols_to_use], how='outer', on=['city', 'detail'])"
   ]
  },
  {
   "cell_type": "code",
   "execution_count": 45,
   "id": "958401e2",
   "metadata": {},
   "outputs": [],
   "source": [
    "df.sort_values(by='city', inplace=True)\n",
    "df.reset_index(drop=True, inplace=True)"
   ]
  },
  {
   "cell_type": "code",
   "execution_count": 58,
   "id": "8d383acd",
   "metadata": {},
   "outputs": [],
   "source": [
    "df = df.melt(id_vars=['city','detail'], var_name=['year'], value_name='value')"
   ]
  },
  {
   "cell_type": "code",
   "execution_count": 82,
   "id": "bd20defb",
   "metadata": {},
   "outputs": [],
   "source": [
    "df = df.pivot(index=['city','year'], columns='detail').reset_index()"
   ]
  },
  {
   "cell_type": "code",
   "execution_count": 88,
   "id": "d1c879e7",
   "metadata": {},
   "outputs": [],
   "source": [
    "df.columns = df.columns[:2].get_level_values(0).tolist() + df.columns[2:].get_level_values(1).tolist()"
   ]
  },
  {
   "cell_type": "code",
   "execution_count": 91,
   "id": "9f529996",
   "metadata": {},
   "outputs": [],
   "source": [
    "df.columns = [col.lower() for col in df.columns]"
   ]
  },
  {
   "cell_type": "code",
   "execution_count": 92,
   "id": "0cd6d226",
   "metadata": {},
   "outputs": [
    {
     "data": {
      "text/html": [
       "<div>\n",
       "<style scoped>\n",
       "    .dataframe tbody tr th:only-of-type {\n",
       "        vertical-align: middle;\n",
       "    }\n",
       "\n",
       "    .dataframe tbody tr th {\n",
       "        vertical-align: top;\n",
       "    }\n",
       "\n",
       "    .dataframe thead th {\n",
       "        text-align: right;\n",
       "    }\n",
       "</style>\n",
       "<table border=\"1\" class=\"dataframe\">\n",
       "  <thead>\n",
       "    <tr style=\"text-align: right;\">\n",
       "      <th></th>\n",
       "      <th>city</th>\n",
       "      <th>year</th>\n",
       "      <th>cable</th>\n",
       "      <th>fiber</th>\n",
       "      <th>mobile broadband dedicated</th>\n",
       "      <th>number of broadband subscriptions - total</th>\n",
       "      <th>number of cable tv subscriptions</th>\n",
       "      <th>number of fixed broadband subscriptions - total</th>\n",
       "      <th>number of fixed telephony access lines</th>\n",
       "      <th>number of mobile broadband subscriptions - total</th>\n",
       "      <th>...</th>\n",
       "      <th>number of mobile telephony subscriptions - 2g</th>\n",
       "      <th>number of mobile telephony subscriptions - 3g</th>\n",
       "      <th>number of mobile telephony subscriptions - total</th>\n",
       "      <th>number of payhones</th>\n",
       "      <th>other</th>\n",
       "      <th>population</th>\n",
       "      <th>santral capacity for fixed telephony</th>\n",
       "      <th>standard mobile broadband</th>\n",
       "      <th>the length of fiber-km</th>\n",
       "      <th>xdsl</th>\n",
       "    </tr>\n",
       "  </thead>\n",
       "  <tbody>\n",
       "    <tr>\n",
       "      <th>0</th>\n",
       "      <td>ADANA</td>\n",
       "      <td>2007</td>\n",
       "      <td>NaN</td>\n",
       "      <td>NaN</td>\n",
       "      <td>NaN</td>\n",
       "      <td>NaN</td>\n",
       "      <td>41115</td>\n",
       "      <td>NaN</td>\n",
       "      <td>402348</td>\n",
       "      <td>NaN</td>\n",
       "      <td>...</td>\n",
       "      <td>NaN</td>\n",
       "      <td>NaN</td>\n",
       "      <td>1759062</td>\n",
       "      <td>2022</td>\n",
       "      <td>NaN</td>\n",
       "      <td>2006650</td>\n",
       "      <td>523425</td>\n",
       "      <td>NaN</td>\n",
       "      <td>NaN</td>\n",
       "      <td>NaN</td>\n",
       "    </tr>\n",
       "    <tr>\n",
       "      <th>1</th>\n",
       "      <td>ADANA</td>\n",
       "      <td>2008</td>\n",
       "      <td>NaN</td>\n",
       "      <td>NaN</td>\n",
       "      <td>NaN</td>\n",
       "      <td>NaN</td>\n",
       "      <td>40400</td>\n",
       "      <td>NaN</td>\n",
       "      <td>369043</td>\n",
       "      <td>NaN</td>\n",
       "      <td>...</td>\n",
       "      <td>NaN</td>\n",
       "      <td>NaN</td>\n",
       "      <td>1889383</td>\n",
       "      <td>1986</td>\n",
       "      <td>NaN</td>\n",
       "      <td>2026319</td>\n",
       "      <td>534366</td>\n",
       "      <td>NaN</td>\n",
       "      <td>NaN</td>\n",
       "      <td>NaN</td>\n",
       "    </tr>\n",
       "    <tr>\n",
       "      <th>2</th>\n",
       "      <td>ADANA</td>\n",
       "      <td>2009</td>\n",
       "      <td>NaN</td>\n",
       "      <td>NaN</td>\n",
       "      <td>NaN</td>\n",
       "      <td>NaN</td>\n",
       "      <td>43826</td>\n",
       "      <td>NaN</td>\n",
       "      <td>332356</td>\n",
       "      <td>NaN</td>\n",
       "      <td>...</td>\n",
       "      <td>NaN</td>\n",
       "      <td>NaN</td>\n",
       "      <td>1768410</td>\n",
       "      <td>1912</td>\n",
       "      <td>NaN</td>\n",
       "      <td>2062226</td>\n",
       "      <td>525061</td>\n",
       "      <td>NaN</td>\n",
       "      <td>NaN</td>\n",
       "      <td>NaN</td>\n",
       "    </tr>\n",
       "    <tr>\n",
       "      <th>3</th>\n",
       "      <td>ADANA</td>\n",
       "      <td>2010</td>\n",
       "      <td>NaN</td>\n",
       "      <td>NaN</td>\n",
       "      <td>NaN</td>\n",
       "      <td>NaN</td>\n",
       "      <td>51835</td>\n",
       "      <td>NaN</td>\n",
       "      <td>310454</td>\n",
       "      <td>NaN</td>\n",
       "      <td>...</td>\n",
       "      <td>1172924</td>\n",
       "      <td>542370</td>\n",
       "      <td>1715294</td>\n",
       "      <td>1877</td>\n",
       "      <td>NaN</td>\n",
       "      <td>2085225</td>\n",
       "      <td>529486</td>\n",
       "      <td>NaN</td>\n",
       "      <td>NaN</td>\n",
       "      <td>NaN</td>\n",
       "    </tr>\n",
       "    <tr>\n",
       "      <th>4</th>\n",
       "      <td>ADANA</td>\n",
       "      <td>2011</td>\n",
       "      <td>30406</td>\n",
       "      <td>21286</td>\n",
       "      <td>29052</td>\n",
       "      <td>561382.40352</td>\n",
       "      <td>57089</td>\n",
       "      <td>167692.40352</td>\n",
       "      <td>270622</td>\n",
       "      <td>393690</td>\n",
       "      <td>...</td>\n",
       "      <td>983747</td>\n",
       "      <td>NaN</td>\n",
       "      <td>1830386</td>\n",
       "      <td>1786</td>\n",
       "      <td>126.40352</td>\n",
       "      <td>2108805</td>\n",
       "      <td>596315</td>\n",
       "      <td>364638</td>\n",
       "      <td>NaN</td>\n",
       "      <td>115874</td>\n",
       "    </tr>\n",
       "  </tbody>\n",
       "</table>\n",
       "<p>5 rows × 21 columns</p>\n",
       "</div>"
      ],
      "text/plain": [
       "    city  year  cable  fiber mobile broadband dedicated  \\\n",
       "0  ADANA  2007    NaN    NaN                        NaN   \n",
       "1  ADANA  2008    NaN    NaN                        NaN   \n",
       "2  ADANA  2009    NaN    NaN                        NaN   \n",
       "3  ADANA  2010    NaN    NaN                        NaN   \n",
       "4  ADANA  2011  30406  21286                      29052   \n",
       "\n",
       "  number of broadband subscriptions - total number of cable tv subscriptions  \\\n",
       "0                                       NaN                            41115   \n",
       "1                                       NaN                            40400   \n",
       "2                                       NaN                            43826   \n",
       "3                                       NaN                            51835   \n",
       "4                              561382.40352                            57089   \n",
       "\n",
       "  number of fixed broadband subscriptions - total  \\\n",
       "0                                             NaN   \n",
       "1                                             NaN   \n",
       "2                                             NaN   \n",
       "3                                             NaN   \n",
       "4                                    167692.40352   \n",
       "\n",
       "  number of fixed telephony access lines  \\\n",
       "0                                 402348   \n",
       "1                                 369043   \n",
       "2                                 332356   \n",
       "3                                 310454   \n",
       "4                                 270622   \n",
       "\n",
       "  number of mobile broadband subscriptions - total  ...  \\\n",
       "0                                              NaN  ...   \n",
       "1                                              NaN  ...   \n",
       "2                                              NaN  ...   \n",
       "3                                              NaN  ...   \n",
       "4                                           393690  ...   \n",
       "\n",
       "  number of mobile telephony subscriptions - 2g  \\\n",
       "0                                           NaN   \n",
       "1                                           NaN   \n",
       "2                                           NaN   \n",
       "3                                       1172924   \n",
       "4                                        983747   \n",
       "\n",
       "  number of mobile telephony subscriptions - 3g  \\\n",
       "0                                           NaN   \n",
       "1                                           NaN   \n",
       "2                                           NaN   \n",
       "3                                        542370   \n",
       "4                                           NaN   \n",
       "\n",
       "  number of mobile telephony subscriptions - total number of payhones  \\\n",
       "0                                          1759062               2022   \n",
       "1                                          1889383               1986   \n",
       "2                                          1768410               1912   \n",
       "3                                          1715294               1877   \n",
       "4                                          1830386               1786   \n",
       "\n",
       "       other population santral capacity for fixed telephony  \\\n",
       "0        NaN    2006650                               523425   \n",
       "1        NaN    2026319                               534366   \n",
       "2        NaN    2062226                               525061   \n",
       "3        NaN    2085225                               529486   \n",
       "4  126.40352    2108805                               596315   \n",
       "\n",
       "  standard mobile broadband the length of fiber-km    xdsl  \n",
       "0                       NaN                    NaN     NaN  \n",
       "1                       NaN                    NaN     NaN  \n",
       "2                       NaN                    NaN     NaN  \n",
       "3                       NaN                    NaN     NaN  \n",
       "4                    364638                    NaN  115874  \n",
       "\n",
       "[5 rows x 21 columns]"
      ]
     },
     "execution_count": 92,
     "metadata": {},
     "output_type": "execute_result"
    }
   ],
   "source": [
    "df.head()"
   ]
  },
  {
   "cell_type": "code",
   "execution_count": 93,
   "id": "c773fa45",
   "metadata": {},
   "outputs": [],
   "source": [
    "df.to_csv('final_merged.csv', encoding='utf-8-sig')"
   ]
  },
  {
   "cell_type": "code",
   "execution_count": null,
   "id": "b3908336",
   "metadata": {},
   "outputs": [],
   "source": []
  }
 ],
 "metadata": {
  "kernelspec": {
   "display_name": "Python 3 (ipykernel)",
   "language": "python",
   "name": "python3"
  },
  "language_info": {
   "codemirror_mode": {
    "name": "ipython",
    "version": 3
   },
   "file_extension": ".py",
   "mimetype": "text/x-python",
   "name": "python",
   "nbconvert_exporter": "python",
   "pygments_lexer": "ipython3",
   "version": "3.9.2"
  }
 },
 "nbformat": 4,
 "nbformat_minor": 5
}
