{
 "cells": [
  {
   "cell_type": "code",
   "execution_count": 5,
   "id": "ed25c1ab",
   "metadata": {},
   "outputs": [],
   "source": [
    "import pandas as pd\n",
    "import numpy as np\n",
    "import requests\n",
    "from bs4 import BeautifulSoup\n",
    "import json"
   ]
  },
  {
   "cell_type": "code",
   "execution_count": 2,
   "id": "ae72af24",
   "metadata": {},
   "outputs": [],
   "source": [
    "source = requests.get('https://www.btk.gov.tr/yillik-il-istatistikleri')"
   ]
  },
  {
   "cell_type": "code",
   "execution_count": 9,
   "id": "6500280a",
   "metadata": {},
   "outputs": [],
   "source": [
    "soup = BeautifulSoup(source.text, 'lxml')"
   ]
  },
  {
   "cell_type": "code",
   "execution_count": 24,
   "id": "b5105b05",
   "metadata": {},
   "outputs": [],
   "source": [
    "files = soup.find_all(name='div', attrs={'class':'SmTqk'})[0]"
   ]
  },
  {
   "cell_type": "code",
   "execution_count": 29,
   "id": "59ed8d07",
   "metadata": {},
   "outputs": [],
   "source": [
    "links = {}\n",
    "for a in files.find_all(name='a'):\n",
    "    link = a['href']\n",
    "    if link.endswith('.xlsx'):\n",
    "        links[a.text] = link"
   ]
  },
  {
   "cell_type": "code",
   "execution_count": 30,
   "id": "fda29608",
   "metadata": {},
   "outputs": [
    {
     "data": {
      "text/plain": [
       "{'2016 - 2021': 'https://www.btk.gov.tr/uploads/pages/yillik-il-istatistikleri/il-bazinda-yillik-istatistik-bulteni-v1.xlsx',\n",
       " '2015 - 2020': 'https://www.btk.gov.tr/uploads/pages/yillik-il-istatistikleri/elektronik-haberlesme-sektorune-iliskin-il-bazinda-yillik-istatistik-bulteni.xlsx',\n",
       " '2014 - 2019': 'https://www.btk.gov.tr/uploads/pages/yillik-il-istatistikleri/il-bazinda-yillik-istatistik-bulteni-20-05-2020.xlsx',\n",
       " '2013 - 2018': 'https://www.btk.gov.tr/uploads/pages/yillik-il-istatistikleri/il-bazinda-yillik-istatistik-bulteni1.xlsx',\n",
       " '2012 - 2017': 'https://www.btk.gov.tr/uploads/pages/yillik-il-istatistikleri/il-bazinda-yillik-istatistik-bulteni.xlsx',\n",
       " '2011 - 2016': 'https://www.btk.gov.tr/uploads/pages/slug/ehsyib-2011-2016-5a3a48147c468.xlsx',\n",
       " '2010 - 2015': 'https://www.btk.gov.tr/uploads/pages/slug/ehsyib-2010-2015.xlsx',\n",
       " '2009 - 2014': 'https://www.btk.gov.tr/uploads/pages/slug/ehsyib-2009-2014.xlsx',\n",
       " '2008 - 2013': 'https://www.btk.gov.tr/uploads/pages/slug/ehsyib-2008-2013.xlsx',\n",
       " '2007 - 2012': 'https://www.btk.gov.tr/uploads/pages/slug/ehsyib-2007-2012.xlsx'}"
      ]
     },
     "execution_count": 30,
     "metadata": {},
     "output_type": "execute_result"
    }
   ],
   "source": [
    "links"
   ]
  },
  {
   "cell_type": "code",
   "execution_count": 145,
   "id": "fe1a5f68",
   "metadata": {},
   "outputs": [],
   "source": [
    "def get_dataframe(link):\n",
    "    data = pd.read_excel(link, sheet_name='İl Bazlı Veri')\n",
    "    data = data.iloc[2:,:]\n",
    "    data['detail'] = data.iloc[:,1].fillna('') + data.iloc[:,2].fillna('')\n",
    "    data['city'] = data.iloc[:,0]\n",
    "    data = data.iloc[:,3:]\n",
    "    data['city'] = data['city'].fillna(method='ffill')\n",
    "    data.dropna(subset=[x for x in data.columns if str(x) not in ['city','detail']], axis=0, inplace=True)\n",
    "    data['detail'] = data['detail'].str.strip(r'[()]')\n",
    "    return data[data.columns[::-1]].reset_index(drop=True)[:-1]"
   ]
  },
  {
   "cell_type": "code",
   "execution_count": 162,
   "id": "3e22a442",
   "metadata": {},
   "outputs": [
    {
     "name": "stdout",
     "output_type": "stream",
     "text": [
      "2016 - 2021\n",
      "2015 - 2020\n",
      "2014 - 2019\n",
      "2013 - 2018\n"
     ]
    },
    {
     "name": "stderr",
     "output_type": "stream",
     "text": [
      "C:\\Users\\TCLSOY~1\\AppData\\Local\\Temp/ipykernel_5888/3319017312.py:8: FutureWarning: Passing 'suffixes' which cause duplicate columns {'2018_x', '2016_x', '2017_x'} in the result is deprecated and will raise a MergeError in a future version.\n",
      "  df = df.merge(data, how='left', left_on=['city', 'detail'], right_on=['city', 'detail'])\n"
     ]
    },
    {
     "name": "stdout",
     "output_type": "stream",
     "text": [
      "2012 - 2017\n"
     ]
    },
    {
     "name": "stderr",
     "output_type": "stream",
     "text": [
      "C:\\Users\\TCLSOY~1\\AppData\\Local\\Temp/ipykernel_5888/3319017312.py:8: FutureWarning: Passing 'suffixes' which cause duplicate columns {'2015_x'} in the result is deprecated and will raise a MergeError in a future version.\n",
      "  df = df.merge(data, how='left', left_on=['city', 'detail'], right_on=['city', 'detail'])\n"
     ]
    },
    {
     "name": "stdout",
     "output_type": "stream",
     "text": [
      "2011 - 2016\n"
     ]
    },
    {
     "name": "stderr",
     "output_type": "stream",
     "text": [
      "C:\\Users\\TCLSOY~1\\AppData\\Local\\Temp/ipykernel_5888/3319017312.py:8: FutureWarning: Passing 'suffixes' which cause duplicate columns {'2016_x', '2014_x'} in the result is deprecated and will raise a MergeError in a future version.\n",
      "  df = df.merge(data, how='left', left_on=['city', 'detail'], right_on=['city', 'detail'])\n"
     ]
    },
    {
     "name": "stdout",
     "output_type": "stream",
     "text": [
      "2010 - 2015\n"
     ]
    },
    {
     "name": "stderr",
     "output_type": "stream",
     "text": [
      "C:\\Users\\TCLSOY~1\\AppData\\Local\\Temp/ipykernel_5888/3319017312.py:8: FutureWarning: Passing 'suffixes' which cause duplicate columns {'2015_x', '2013_x'} in the result is deprecated and will raise a MergeError in a future version.\n",
      "  df = df.merge(data, how='left', left_on=['city', 'detail'], right_on=['city', 'detail'])\n"
     ]
    },
    {
     "name": "stdout",
     "output_type": "stream",
     "text": [
      "2009 - 2014\n"
     ]
    },
    {
     "name": "stderr",
     "output_type": "stream",
     "text": [
      "C:\\Users\\TCLSOY~1\\AppData\\Local\\Temp/ipykernel_5888/3319017312.py:8: FutureWarning: Passing 'suffixes' which cause duplicate columns {'2012_x', '2014_x'} in the result is deprecated and will raise a MergeError in a future version.\n",
      "  df = df.merge(data, how='left', left_on=['city', 'detail'], right_on=['city', 'detail'])\n"
     ]
    },
    {
     "name": "stdout",
     "output_type": "stream",
     "text": [
      "2008 - 2013\n"
     ]
    },
    {
     "name": "stderr",
     "output_type": "stream",
     "text": [
      "C:\\Users\\TCLSOY~1\\AppData\\Local\\Temp/ipykernel_5888/3319017312.py:8: FutureWarning: Passing 'suffixes' which cause duplicate columns {'2011_x', '2013_x'} in the result is deprecated and will raise a MergeError in a future version.\n",
      "  df = df.merge(data, how='left', left_on=['city', 'detail'], right_on=['city', 'detail'])\n"
     ]
    },
    {
     "name": "stdout",
     "output_type": "stream",
     "text": [
      "2007 - 2012\n"
     ]
    },
    {
     "name": "stderr",
     "output_type": "stream",
     "text": [
      "C:\\Users\\TCLSOY~1\\AppData\\Local\\Temp/ipykernel_5888/3319017312.py:8: FutureWarning: Passing 'suffixes' which cause duplicate columns {'2012_x', '2010_x'} in the result is deprecated and will raise a MergeError in a future version.\n",
      "  df = df.merge(data, how='left', left_on=['city', 'detail'], right_on=['city', 'detail'])\n"
     ]
    }
   ],
   "source": [
    "df = pd.DataFrame()\n",
    "for key, link in links.items():\n",
    "    print(key)\n",
    "    data = get_dataframe(link)\n",
    "    if df.shape[0] == 0:\n",
    "        df = data\n",
    "    else:\n",
    "        df = df.merge(data, how='left', on=['city', 'detail'])"
   ]
  },
  {
   "cell_type": "code",
   "execution_count": 164,
   "id": "c773fa45",
   "metadata": {},
   "outputs": [],
   "source": [
    "df.to_csv('final_merged.csv', encoding='utf-8-sig')"
   ]
  },
  {
   "cell_type": "code",
   "execution_count": 167,
   "id": "c5a3ffdd",
   "metadata": {},
   "outputs": [
    {
     "data": {
      "text/plain": [
       "Index([  'city', 'detail',     2021, '2020_x', '2019_x', '2018_x', '2017_x',\n",
       "       '2016_x', '2020_y', '2019_y', '2018_y', '2017_y', '2016_y', '2015_x',\n",
       "           2019, '2018_x', '2017_x', '2016_x', '2015_y', '2014_x', '2018_y',\n",
       "       '2017_y', '2016_y', '2015_x', '2014_y', '2013_x',     2017, '2016_x',\n",
       "       '2015_y', '2014_x', '2013_y', '2012_x', '2016_y', '2015_x', '2014_y',\n",
       "       '2013_x', '2012_y', '2011_x', '2015_y', '2014_x', '2013_y', '2012_x',\n",
       "       '2011_y', '2010_x', '2014_y', '2013_x', '2012_y', '2011_x', '2010_y',\n",
       "       '2009_x', '2013_y', '2012_x', '2011_y', '2010_x', '2009_y', '2008_x',\n",
       "       '2012_y',     2011, '2010_y',     2009, '2008_y',     2007],\n",
       "      dtype='object')"
      ]
     },
     "execution_count": 167,
     "metadata": {},
     "output_type": "execute_result"
    }
   ],
   "source": [
    "df.columns"
   ]
  },
  {
   "cell_type": "code",
   "execution_count": null,
   "id": "d44c99b9",
   "metadata": {},
   "outputs": [],
   "source": []
  }
 ],
 "metadata": {
  "kernelspec": {
   "display_name": "Python 3 (ipykernel)",
   "language": "python",
   "name": "python3"
  },
  "language_info": {
   "codemirror_mode": {
    "name": "ipython",
    "version": 3
   },
   "file_extension": ".py",
   "mimetype": "text/x-python",
   "name": "python",
   "nbconvert_exporter": "python",
   "pygments_lexer": "ipython3",
   "version": "3.9.2"
  }
 },
 "nbformat": 4,
 "nbformat_minor": 5
}
